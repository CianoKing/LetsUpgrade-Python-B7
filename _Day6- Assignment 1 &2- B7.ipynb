{
 "cells": [
  {
   "cell_type": "code",
   "execution_count": 42,
   "metadata": {},
   "outputs": [],
   "source": [
    "### Assignment 1\n",
    "\n",
    "\n",
    "class bankAccount():\n",
    "    def __init__(self,ownerName,balance):\n",
    "        self.ownerName = ownerName\n",
    "        self.balance = balance\n",
    "        \n",
    "    def deposit(self):\n",
    "        amount = float(input(\"Enter amount to be deposited -\"))\n",
    "        self.balance= self.balance + amount\n",
    "        print(\"Owner Name-\",self.ownerName)\n",
    "        print(\"balance-\",self.balance)\n",
    "        \n",
    "    def withdraw(self):\n",
    "        amount = float(input(\"Enter amount to be withrawn -\"))\n",
    "        if self.balance >= amount:\n",
    "            self.balance= self.balance - amount\n",
    "            print(\"You withdrew-\", amount)\n",
    "        else:\n",
    "            print(\"Insufficient balance\")\n",
    "        print(\"Owner Name-\",self.ownerName)\n",
    "        print(\"balance-\",self.balance)\n",
    "        "
   ]
  },
  {
   "cell_type": "code",
   "execution_count": 47,
   "metadata": {},
   "outputs": [],
   "source": [
    "BOB = bankAccount(\"Ciano King Fernandes\", 1000)"
   ]
  },
  {
   "cell_type": "code",
   "execution_count": 48,
   "metadata": {},
   "outputs": [
    {
     "name": "stdout",
     "output_type": "stream",
     "text": [
      "Enter amount to be deposited -5000\n",
      "Owner Name- Ciano King Fernandes\n",
      "balance- 6000.0\n"
     ]
    }
   ],
   "source": [
    "BOB.deposit()"
   ]
  },
  {
   "cell_type": "code",
   "execution_count": 49,
   "metadata": {},
   "outputs": [
    {
     "name": "stdout",
     "output_type": "stream",
     "text": [
      "Enter amount to be withrawn -4000\n",
      "You withdrew- 4000.0\n",
      "Owner Name- Ciano King Fernandes\n",
      "balance- 2000.0\n"
     ]
    }
   ],
   "source": [
    "BOB.withdraw()"
   ]
  },
  {
   "cell_type": "code",
   "execution_count": 50,
   "metadata": {},
   "outputs": [
    {
     "name": "stdout",
     "output_type": "stream",
     "text": [
      "Enter amount to be withrawn -3000\n",
      "Insufficient balance\n",
      "Owner Name- Ciano King Fernandes\n",
      "balance- 2000.0\n"
     ]
    }
   ],
   "source": [
    "BOB.withdraw()"
   ]
  },
  {
   "cell_type": "code",
   "execution_count": 51,
   "metadata": {},
   "outputs": [
    {
     "name": "stdout",
     "output_type": "stream",
     "text": [
      "Enter amount to be deposited -8000\n",
      "Owner Name- Ciano King Fernandes\n",
      "balance- 10000.0\n"
     ]
    }
   ],
   "source": [
    "BOB.deposit()"
   ]
  },
  {
   "cell_type": "code",
   "execution_count": 52,
   "metadata": {},
   "outputs": [
    {
     "name": "stdout",
     "output_type": "stream",
     "text": [
      "Enter amount to be withrawn -7549\n",
      "You withdrew- 7549.0\n",
      "Owner Name- Ciano King Fernandes\n",
      "balance- 2451.0\n"
     ]
    }
   ],
   "source": [
    "BOB.withdraw()"
   ]
  },
  {
   "cell_type": "code",
   "execution_count": 53,
   "metadata": {},
   "outputs": [],
   "source": [
    "##"
   ]
  },
  {
   "cell_type": "code",
   "execution_count": 55,
   "metadata": {},
   "outputs": [],
   "source": [
    "## Assignment 2"
   ]
  },
  {
   "cell_type": "code",
   "execution_count": 91,
   "metadata": {},
   "outputs": [],
   "source": [
    "class cone():\n",
    "    pi = 3.14\n",
    "    \n",
    "    def __init__(self, Radius, Height):\n",
    "        self.Radius = Radius\n",
    "        self.Height = Height\n",
    "        \n",
    "    def Volume(self):\n",
    "        Radius = float(input(\"Radius -\"))\n",
    "        Height = float(input(\"Height -\"))\n",
    "        print(\"The volume of the Cone is -\",cone.pi* Radius**2 * Height/3)\n",
    "        \n",
    "    def SufaceArea(self):\n",
    "        Radius = float(input(\"Radius -\"))\n",
    "        Height = float(input(\"Height -\"))\n",
    "        print(\"The Curved Surface Area of the Cone is -\", cone.pi * Radius * (Radius**2 + Height**2)**0.5)\n",
    "        print(\"The Base Surface Area of the Cone is -\", cone.pi * Radius**2 )\n",
    "        print(\"The Total Surface Area of the Cone is -\",  cone.pi * Radius * (Radius**2 + Height**2)**0.5 + cone.pi * Radius**2)\n",
    "        \n",
    "    \n",
    "        \n",
    "       "
   ]
  },
  {
   "cell_type": "code",
   "execution_count": 92,
   "metadata": {},
   "outputs": [],
   "source": [
    "Cone = cone(\"Radius\",\"Height\")"
   ]
  },
  {
   "cell_type": "code",
   "execution_count": 83,
   "metadata": {},
   "outputs": [
    {
     "name": "stdout",
     "output_type": "stream",
     "text": [
      "Radius -10\n",
      "Height -10\n",
      "The volume of the Cone is - 1046.6666666666667\n"
     ]
    }
   ],
   "source": [
    "Cone.Volume()"
   ]
  },
  {
   "cell_type": "code",
   "execution_count": 93,
   "metadata": {},
   "outputs": [
    {
     "name": "stdout",
     "output_type": "stream",
     "text": [
      "Radius -10\n",
      "Height -10\n",
      "The Curved Surface Area of the Cone is - 444.0630585851519\n",
      "The Base Surface Area of the Cone is - 314.0\n",
      "The Total Surface Area of the Cone is - 758.0630585851519\n"
     ]
    }
   ],
   "source": [
    "Cone.SufaceArea()"
   ]
  },
  {
   "cell_type": "code",
   "execution_count": null,
   "metadata": {},
   "outputs": [],
   "source": []
  }
 ],
 "metadata": {
  "kernelspec": {
   "display_name": "Python 3",
   "language": "python",
   "name": "python3"
  },
  "language_info": {
   "codemirror_mode": {
    "name": "ipython",
    "version": 3
   },
   "file_extension": ".py",
   "mimetype": "text/x-python",
   "name": "python",
   "nbconvert_exporter": "python",
   "pygments_lexer": "ipython3",
   "version": "3.8.3"
  }
 },
 "nbformat": 4,
 "nbformat_minor": 4
}
