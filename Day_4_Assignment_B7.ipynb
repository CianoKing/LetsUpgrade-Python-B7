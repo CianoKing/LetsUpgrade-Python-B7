{
  "nbformat": 4,
  "nbformat_minor": 0,
  "metadata": {
    "colab": {
      "name": "Day 4-Assignment- B7.ipynb",
      "provenance": []
    },
    "kernelspec": {
      "name": "python3",
      "display_name": "Python 3"
    }
  },
  "cells": [
    {
      "cell_type": "code",
      "metadata": {
        "id": "tRPNdmt044NK",
        "colab_type": "code",
        "colab": {
          "base_uri": "https://localhost:8080/",
          "height": 34
        },
        "outputId": "e74f1440-31ea-410d-e96f-82b0fe8490e7"
      },
      "source": [
        "for item in range(1042000,702648265):\n",
        "    sum = 0\n",
        "    temp = item\n",
        "    length = len(str(item))\n",
        "    \n",
        "    while temp > 0:\n",
        "        digit = temp % 10\n",
        "        sum = sum + digit ** length\n",
        "        temp = temp// 10\n",
        "    \n",
        "    if item == sum:\n",
        "        print(\"The first armstrong number is\",item)\n",
        "        break"
      ],
      "execution_count": 11,
      "outputs": [
        {
          "output_type": "stream",
          "text": [
            "The first armstrong number is 1741725\n"
          ],
          "name": "stdout"
        }
      ]
    },
    {
      "cell_type": "code",
      "metadata": {
        "id": "bDdyYl9C5Z7y",
        "colab_type": "code",
        "colab": {}
      },
      "source": [
        ""
      ],
      "execution_count": null,
      "outputs": []
    }
  ]
}